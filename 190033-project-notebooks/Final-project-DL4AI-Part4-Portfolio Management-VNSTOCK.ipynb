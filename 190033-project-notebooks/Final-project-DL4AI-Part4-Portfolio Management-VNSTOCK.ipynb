{
 "cells": [
  {
   "cell_type": "markdown",
   "metadata": {
    "id": "Y6DyphAUEBOi"
   },
   "source": [
    "# Final project: Time-series data and application to stock markets\n",
    "\n",
    "Part 2: Vietnam Stock Prediction "
   ]
  },
  {
   "cell_type": "code",
   "execution_count": 15,
   "metadata": {},
   "outputs": [],
   "source": [
    "# Load libraries\n",
    "import tensorflow as tf\n",
    "import numpy as np\n",
    "import pandas as pd\n",
    "import matplotlib.pyplot as plt\n",
    "import pandas_ta as ta\n",
    "import os\n",
    "from tensorflow import keras\n",
    "from sklearn.model_selection import TimeSeriesSplit, train_test_split\n"
   ]
  },
  {
   "cell_type": "code",
   "execution_count": 5,
   "metadata": {},
   "outputs": [],
   "source": [
    "# Suppress TF warnings\n",
    "os.environ['TF_CPP_MIN_LOG_LEVEL'] = '3'"
   ]
  },
  {
   "cell_type": "code",
   "execution_count": 33,
   "metadata": {
    "scrolled": false
   },
   "outputs": [],
   "source": [
    "companies_overview = pd.read_csv(\"data-vn-20230228/ticker-overview.csv\")\n",
    "company_names = pd.read_csv(\"data-vn-20230228/companies.csv\")"
   ]
  },
  {
   "cell_type": "code",
   "execution_count": 34,
   "metadata": {
    "scrolled": false
   },
   "outputs": [
    {
     "data": {
      "text/plain": [
       "30"
      ]
     },
     "execution_count": 34,
     "metadata": {},
     "output_type": "execute_result"
    }
   ],
   "source": [
    "#Step 1: Filter companies in technology sector \n",
    "tech_companies = companies_overview[companies_overview[\"industryEn\"] == \"Technology\"]['ticker'].to_list()\n",
    "len(tech_companies)"
   ]
  },
  {
   "cell_type": "code",
   "execution_count": 35,
   "metadata": {},
   "outputs": [],
   "source": [
    "#Get group codes for these companies -> validate data points number\n",
    "root_path = 'data-vn-20230228/'\n",
    "history_path = root_path + 'stock-historical-data/'\n",
    "dfs = []\n",
    "saved_companies = []\n",
    "for company in tech_companies: \n",
    "    group_code = str(company_names[company_names.ticker == company]['group_code'].values[0])\n",
    "    filename = history_path + company + \"-\" + group_code + '-History.csv'\n",
    "    df = pd.read_csv(filename)\n",
    "    if len(df) >= 1200: \n",
    "        dfs.append(df)\n",
    "        saved_companies.append(company)"
   ]
  },
  {
   "cell_type": "code",
   "execution_count": 36,
   "metadata": {},
   "outputs": [
    {
     "data": {
      "text/plain": [
       "28"
      ]
     },
     "execution_count": 36,
     "metadata": {},
     "output_type": "execute_result"
    }
   ],
   "source": [
    "len(dfs)"
   ]
  },
  {
   "cell_type": "code",
   "execution_count": 10,
   "metadata": {},
   "outputs": [],
   "source": [
    "#Save constants for program\n",
    "window_size = 120\n",
    "pred_time = 7\n",
    "features = [\"Open\", \"High\", \"Low\", \"Close\"]\n"
   ]
  },
  {
   "cell_type": "code",
   "execution_count": 81,
   "metadata": {},
   "outputs": [],
   "source": [
    "# Split the dataset into time windows to get data samples.\n",
    "\n",
    "def get_samples(df,window_size, target_pred=1): \n",
    "    X_data = []\n",
    "    y_data = []\n",
    "    i = 0 \n",
    "    while i < (len(df) - window_size - target_pred):\n",
    "        X_data.append(df.iloc[i:i + window_size,:].to_numpy())\n",
    "        y_data.append(df.iloc[i + window_size:i + window_size + target_pred, :].to_numpy())\n",
    "        i += target_pred\n",
    "    return X_data, y_data\n",
    "\n",
    "def preprocessing(X_data, y_data, window_size):\n",
    "    # Import the library\n",
    "    from sklearn.model_selection import train_test_split\n",
    "\n",
    "    # Split data into train, val and test. \n",
    "    X_train, X_test, y_train, y_test = train_test_split(X_data, y_data, test_size=0.2, shuffle=False)\n",
    "    X_train, X_val, y_train, y_val = train_test_split(X_train, y_train, test_size=0.2, shuffle=False)\n",
    "\n",
    "    X_train = np.array(X_train)\n",
    "    X_val = np.array(X_val)\n",
    "    X_test = np.array(X_test)\n",
    "    y_train = np.array(y_train)\n",
    "    y_val = np.array(y_val)\n",
    "    y_test = np.array(y_test)\n",
    "    \n",
    "    #Print shape of the training, validation and test set\n",
    "    print(\"Shape of training set: \", X_train.shape, \"label shape:\", y_train.shape)\n",
    "    print(\"Shape of validation set: \", X_val.shape, \"label shape\", y_val.shape)\n",
    "    print(\"Shape of test set: \", X_test.shape, \"label shape:\", y_test.shape)\n",
    "    return X_train, X_test, X_val, y_train, y_test, y_val\n",
    "\n",
    "def norm_data(X, y):\n",
    "    X_norm = X.copy()\n",
    "    y_norm = y.copy()\n",
    "    for i in range(0, len(X)):\n",
    "        min_feature = np.min(X[i])\n",
    "        max_feature = np.max(X[i])\n",
    "        X_norm[i] = (X[i] - min_feature) / (max_feature - min_feature)\n",
    "        y_norm[i] = (y[i] - min_feature) / (max_feature - min_feature)\n",
    "    return X_norm, y_norm\n"
   ]
  },
  {
   "cell_type": "code",
   "execution_count": 79,
   "metadata": {},
   "outputs": [],
   "source": [
    "#Select previous model\n",
    "def train_model(X_train_norm, y_train_norm, window_size, pred_time): \n",
    "    from keras.layers import LSTM, Flatten, Dense, Cropping1D, Input\n",
    "    model = tf.keras.Sequential()\n",
    "    model.add(Input(shape=(window_size, len(features))))\n",
    "    model.add(LSTM(units=128, return_sequences=True)) # Output dimension of LSTM layer\n",
    "    model.add(tf.keras.layers.Dropout(0.5))\n",
    "    model.add(Dense(1))\n",
    "    model.add(Cropping1D(cropping=(window_size - pred_time, 0)))\n",
    "    # Compile the model\n",
    "    model.compile(optimizer= tf.keras.optimizers.legacy.Adam(learning_rate=0.0001), loss='mse', metrics=['mse'])\n",
    "    # Train the model\n",
    "    model.fit(X_train_norm, y_train_norm, epochs=15, verbose=0)\n",
    "    return model"
   ]
  },
  {
   "cell_type": "code",
   "execution_count": 75,
   "metadata": {},
   "outputs": [],
   "source": [
    "good_companies = []\n",
    "# !mkdir -p \"saved_model/vnstock/\"\n",
    "save_path = \"saved_model/vnstock/\"\n",
    "\n",
    "def train_and_select_company(company, df): \n",
    "    window_size = 120\n",
    "    pred_time = 7\n",
    "    X, y = get_samples(df, window_size, target_pred = pred_time)\n",
    "    X, y = np.array(X), np.array(y)\n",
    "    X_train, X_test, y_train, y_test = train_test_split(X, y, test_size=0.2, shuffle=False, random_state=0)\n",
    "    X_train_norm, y_train_norm = norm_data(X_train, y_train)\n",
    "    X_test_norm, y_test_norm = norm_data(X_test, y_test)\n",
    "    mses = []\n",
    "    models = []\n",
    "\n",
    "    for n, (train_index, test_index) in enumerate(TimeSeriesSplit(n_splits=5).split(X_train, y_train)):\n",
    "        print(\"On fold: --\", n)\n",
    "#         print(\"train_index\", train_index , \"test_index\", test_index)\n",
    "        X_val_fold, y_val_fold = X_train.copy()[test_index], y_train.copy()[test_index]\n",
    "        X_train_fold, y_train_fold = X_train.copy()[train_index], y_train.copy()[train_index]\n",
    "        X_train_fold_norm, y_train_fold_norm = norm_data(X_train_fold, y_train_fold)\n",
    "        X_val_fold_norm, y_val_fold_norm = norm_data(X_val_fold, y_val_fold)\n",
    "        # Create and train the model\n",
    "        model = train_model(X_train_fold_norm, y_train_fold_norm, window_size, pred_time)\n",
    "        val_mse = model.evaluate(X_val_fold_norm, y_val_fold_norm, verbose=0)[1]\n",
    "        test_mse = model.evaluate(X_test_norm, y_test_norm, verbose=0)[1]\n",
    "        print(\"Val MSE:\", val_mse, \"- Test MSE:\", test_mse)\n",
    "        mses.append(test_mse)\n",
    "        models.append(model)\n",
    "    overall_mse = np.average(mses)\n",
    "    print(\"Overall MSE: \", overall_mse)\n",
    "    #Save best model to predict\n",
    "    if overall_mse < 0.07: \n",
    "        model = models[np.argmin(mses)].save(filepath=save_path + company, include_optimizer=False) \n",
    "        good_companies.append(company)\n",
    "        "
   ]
  },
  {
   "attachments": {},
   "cell_type": "markdown",
   "metadata": {},
   "source": [
    "## Basic Questions: \n",
    "\n",
    "How to decide which company to keep and which to sell? \n",
    "-> Based on price and indicators -> Common indicators for technical analysis are Relative strength index (RSI) and Supertrend Indicator (SI)\n",
    "-> use pandas-ta, a popular library to calculate such technical scores for this data set"
   ]
  },
  {
   "cell_type": "code",
   "execution_count": 114,
   "metadata": {},
   "outputs": [],
   "source": [
    "def calc_indicator(df):\n",
    "    \"\"\"Output valuable indicators for user financial decision\"\"\"\n",
    "    indicator = {\"RSI\": ta.rsi(df[\"Close\"], length=3)}\n",
    "    return indicator"
   ]
  },
  {
   "attachments": {},
   "cell_type": "markdown",
   "metadata": {},
   "source": [
    "To predict price for both open, close, high and low, I used a model taking input of such features in 120 days time window to predict for the next 7 days. Save models for companies with cross-validation MSE lower than 0.07 threshold. "
   ]
  },
  {
   "cell_type": "code",
   "execution_count": 82,
   "metadata": {},
   "outputs": [
    {
     "name": "stdout",
     "output_type": "stream",
     "text": [
      "Train and select model for CKV\n",
      "On fold: -- 0\n",
      "Val MSE: 0.05839037895202637 - Test MSE: 0.11583037674427032\n",
      "On fold: -- 1\n",
      "Val MSE: 0.028916919603943825 - Test MSE: 0.09119730442762375\n",
      "On fold: -- 2\n",
      "Val MSE: 0.04061967134475708 - Test MSE: 0.0820302739739418\n",
      "On fold: -- 3\n",
      "Val MSE: 0.044531047344207764 - Test MSE: 0.08165270835161209\n",
      "On fold: -- 4\n",
      "Val MSE: 0.05174537003040314 - Test MSE: 0.0861135795712471\n",
      "Overall MSE:  0.09136484861373902\n",
      "Train and select model for CMG\n",
      "On fold: -- 0\n",
      "Val MSE: 0.06544730067253113 - Test MSE: 0.11394822597503662\n",
      "On fold: -- 1\n",
      "Val MSE: 0.07485418766736984 - Test MSE: 0.05871550366282463\n",
      "On fold: -- 2\n",
      "Val MSE: 0.03654702007770538 - Test MSE: 0.045640140771865845\n",
      "On fold: -- 3\n",
      "Val MSE: 0.056075625121593475 - Test MSE: 0.04443804547190666\n",
      "On fold: -- 4\n",
      "Val MSE: 0.029322944581508636 - Test MSE: 0.04372850060462952\n",
      "Overall MSE:  0.06129408329725265\n"
     ]
    },
    {
     "name": "stderr",
     "output_type": "stream",
     "text": [
      "WARNING:absl:Found untraced functions such as lstm_cell_136_layer_call_fn, lstm_cell_136_layer_call_and_return_conditional_losses while saving (showing 2 of 2). These functions will not be directly callable after loading.\n"
     ]
    },
    {
     "name": "stdout",
     "output_type": "stream",
     "text": [
      "INFO:tensorflow:Assets written to: saved_model/vnstock/CMG/assets\n"
     ]
    },
    {
     "name": "stderr",
     "output_type": "stream",
     "text": [
      "INFO:tensorflow:Assets written to: saved_model/vnstock/CMG/assets\n"
     ]
    },
    {
     "name": "stdout",
     "output_type": "stream",
     "text": [
      "Train and select model for CMT\n",
      "On fold: -- 0\n",
      "Val MSE: 0.1233333870768547 - Test MSE: 0.2051384598016739\n",
      "On fold: -- 1\n",
      "Val MSE: 0.053562525659799576 - Test MSE: 0.05038287863135338\n",
      "On fold: -- 2\n",
      "Val MSE: 0.04482569918036461 - Test MSE: 0.05563989281654358\n",
      "On fold: -- 3\n",
      "Val MSE: 0.03275752440094948 - Test MSE: 0.04720687493681908\n",
      "On fold: -- 4\n",
      "Val MSE: 0.037249840795993805 - Test MSE: 0.0540614053606987\n",
      "Overall MSE:  0.08248590230941773\n",
      "Train and select model for ELC\n",
      "On fold: -- 0\n",
      "Val MSE: 0.05171627551317215 - Test MSE: 0.04268678277730942\n",
      "On fold: -- 1\n",
      "Val MSE: 0.056750524789094925 - Test MSE: 0.046980537474155426\n",
      "On fold: -- 2\n",
      "Val MSE: 0.031056858599185944 - Test MSE: 0.04631996899843216\n",
      "On fold: -- 3\n",
      "Val MSE: 0.02189546637237072 - Test MSE: 0.04393366351723671\n",
      "On fold: -- 4\n",
      "Val MSE: 0.04437632858753204 - Test MSE: 0.047528933733701706\n",
      "Overall MSE:  0.045489977300167087\n"
     ]
    },
    {
     "name": "stderr",
     "output_type": "stream",
     "text": [
      "WARNING:absl:Found untraced functions such as lstm_cell_142_layer_call_fn, lstm_cell_142_layer_call_and_return_conditional_losses while saving (showing 2 of 2). These functions will not be directly callable after loading.\n"
     ]
    },
    {
     "name": "stdout",
     "output_type": "stream",
     "text": [
      "INFO:tensorflow:Assets written to: saved_model/vnstock/ELC/assets\n"
     ]
    },
    {
     "name": "stderr",
     "output_type": "stream",
     "text": [
      "INFO:tensorflow:Assets written to: saved_model/vnstock/ELC/assets\n"
     ]
    },
    {
     "name": "stdout",
     "output_type": "stream",
     "text": [
      "Train and select model for FPT\n",
      "On fold: -- 0\n",
      "Val MSE: 0.03040134161710739 - Test MSE: 0.04012015461921692\n",
      "On fold: -- 1\n",
      "Val MSE: 0.037970706820487976 - Test MSE: 0.04606448858976364\n",
      "On fold: -- 2\n",
      "Val MSE: 0.041921600699424744 - Test MSE: 0.042353831231594086\n",
      "On fold: -- 3\n",
      "Val MSE: 0.03558063879609108 - Test MSE: 0.037794992327690125\n",
      "On fold: -- 4\n",
      "Val MSE: 0.03018956631422043 - Test MSE: 0.038374047726392746\n",
      "Overall MSE:  0.0409415028989315\n"
     ]
    },
    {
     "name": "stderr",
     "output_type": "stream",
     "text": [
      "WARNING:absl:Found untraced functions such as lstm_cell_150_layer_call_fn, lstm_cell_150_layer_call_and_return_conditional_losses while saving (showing 2 of 2). These functions will not be directly callable after loading.\n"
     ]
    },
    {
     "name": "stdout",
     "output_type": "stream",
     "text": [
      "INFO:tensorflow:Assets written to: saved_model/vnstock/FPT/assets\n"
     ]
    },
    {
     "name": "stderr",
     "output_type": "stream",
     "text": [
      "INFO:tensorflow:Assets written to: saved_model/vnstock/FPT/assets\n"
     ]
    },
    {
     "name": "stdout",
     "output_type": "stream",
     "text": [
      "Train and select model for HIG\n",
      "On fold: -- 0\n",
      "Val MSE: 0.06615370512008667 - Test MSE: 0.053753964602947235\n",
      "On fold: -- 1\n",
      "Val MSE: 0.04252152889966965 - Test MSE: 0.030578672885894775\n",
      "On fold: -- 2\n",
      "Val MSE: 0.04187041148543358 - Test MSE: 0.027550918981432915\n",
      "On fold: -- 3\n",
      "Val MSE: 0.03452390804886818 - Test MSE: 0.027344996109604836\n",
      "On fold: -- 4\n",
      "Val MSE: 0.05334671959280968 - Test MSE: 0.028746670112013817\n",
      "Overall MSE:  0.033595044538378714\n"
     ]
    },
    {
     "name": "stderr",
     "output_type": "stream",
     "text": [
      "WARNING:absl:Found untraced functions such as lstm_cell_155_layer_call_fn, lstm_cell_155_layer_call_and_return_conditional_losses while saving (showing 2 of 2). These functions will not be directly callable after loading.\n"
     ]
    },
    {
     "name": "stdout",
     "output_type": "stream",
     "text": [
      "INFO:tensorflow:Assets written to: saved_model/vnstock/HIG/assets\n"
     ]
    },
    {
     "name": "stderr",
     "output_type": "stream",
     "text": [
      "INFO:tensorflow:Assets written to: saved_model/vnstock/HIG/assets\n"
     ]
    },
    {
     "name": "stdout",
     "output_type": "stream",
     "text": [
      "Train and select model for HPT\n",
      "On fold: -- 0\n",
      "Val MSE: 0.13592346012592316 - Test MSE: 0.09868086874485016\n",
      "On fold: -- 1\n",
      "Val MSE: 0.14934030175209045 - Test MSE: 0.04791402444243431\n",
      "On fold: -- 2\n",
      "Val MSE: 0.08274800330400467 - Test MSE: 0.050160571932792664\n",
      "On fold: -- 3\n",
      "Val MSE: 0.10338437557220459 - Test MSE: 0.04784514009952545\n",
      "On fold: -- 4\n",
      "Val MSE: 0.07552652806043625 - Test MSE: 0.04618113487958908\n",
      "Overall MSE:  0.058156348019838336\n"
     ]
    },
    {
     "name": "stderr",
     "output_type": "stream",
     "text": [
      "WARNING:absl:Found untraced functions such as lstm_cell_161_layer_call_fn, lstm_cell_161_layer_call_and_return_conditional_losses while saving (showing 2 of 2). These functions will not be directly callable after loading.\n"
     ]
    },
    {
     "name": "stdout",
     "output_type": "stream",
     "text": [
      "INFO:tensorflow:Assets written to: saved_model/vnstock/HPT/assets\n"
     ]
    },
    {
     "name": "stderr",
     "output_type": "stream",
     "text": [
      "INFO:tensorflow:Assets written to: saved_model/vnstock/HPT/assets\n"
     ]
    },
    {
     "name": "stdout",
     "output_type": "stream",
     "text": [
      "Train and select model for ITD\n",
      "On fold: -- 0\n",
      "Val MSE: 0.04380877688527107 - Test MSE: 0.046789947897195816\n",
      "On fold: -- 1\n",
      "Val MSE: 0.046931467950344086 - Test MSE: 0.047877125442028046\n",
      "On fold: -- 2\n",
      "Val MSE: 0.05197524651885033 - Test MSE: 0.038233235478401184\n",
      "On fold: -- 3\n",
      "Val MSE: 0.02917397767305374 - Test MSE: 0.039588477462530136\n",
      "On fold: -- 4\n",
      "Val MSE: 0.035051364451646805 - Test MSE: 0.03898991271853447\n",
      "Overall MSE:  0.04229573979973793\n"
     ]
    },
    {
     "name": "stderr",
     "output_type": "stream",
     "text": [
      "WARNING:absl:Found untraced functions such as lstm_cell_164_layer_call_fn, lstm_cell_164_layer_call_and_return_conditional_losses while saving (showing 2 of 2). These functions will not be directly callable after loading.\n"
     ]
    },
    {
     "name": "stdout",
     "output_type": "stream",
     "text": [
      "INFO:tensorflow:Assets written to: saved_model/vnstock/ITD/assets\n"
     ]
    },
    {
     "name": "stderr",
     "output_type": "stream",
     "text": [
      "INFO:tensorflow:Assets written to: saved_model/vnstock/ITD/assets\n"
     ]
    },
    {
     "name": "stdout",
     "output_type": "stream",
     "text": [
      "Train and select model for KST\n",
      "On fold: -- 0\n",
      "Val MSE: 0.1386919468641281 - Test MSE: 0.09340167045593262\n",
      "On fold: -- 1\n",
      "Val MSE: 0.08573829382658005 - Test MSE: 0.056274719536304474\n",
      "On fold: -- 2\n",
      "Val MSE: 0.18216338753700256 - Test MSE: 0.05555874854326248\n",
      "On fold: -- 3\n",
      "Val MSE: 0.05897272750735283 - Test MSE: 0.050479523837566376\n",
      "On fold: -- 4\n",
      "Val MSE: 0.04065506532788277 - Test MSE: 0.04915378987789154\n",
      "Overall MSE:  0.0609736904501915\n"
     ]
    },
    {
     "name": "stderr",
     "output_type": "stream",
     "text": [
      "WARNING:absl:Found untraced functions such as lstm_cell_171_layer_call_fn, lstm_cell_171_layer_call_and_return_conditional_losses while saving (showing 2 of 2). These functions will not be directly callable after loading.\n"
     ]
    },
    {
     "name": "stdout",
     "output_type": "stream",
     "text": [
      "INFO:tensorflow:Assets written to: saved_model/vnstock/KST/assets\n"
     ]
    },
    {
     "name": "stderr",
     "output_type": "stream",
     "text": [
      "INFO:tensorflow:Assets written to: saved_model/vnstock/KST/assets\n"
     ]
    },
    {
     "name": "stdout",
     "output_type": "stream",
     "text": [
      "Train and select model for LTC\n",
      "On fold: -- 0\n",
      "Val MSE: 0.05066663399338722 - Test MSE: 0.06097966432571411\n",
      "On fold: -- 1\n",
      "Val MSE: 0.031713277101516724 - Test MSE: 0.05343320965766907\n",
      "On fold: -- 2\n",
      "Val MSE: 0.032874200493097305 - Test MSE: 0.05405467748641968\n",
      "On fold: -- 3\n",
      "Val MSE: 0.03774416074156761 - Test MSE: 0.05170464888215065\n",
      "On fold: -- 4\n",
      "Val MSE: 0.052874598652124405 - Test MSE: 0.05010032281279564\n",
      "Overall MSE:  0.05405450463294983\n"
     ]
    },
    {
     "name": "stderr",
     "output_type": "stream",
     "text": [
      "WARNING:absl:Found untraced functions such as lstm_cell_176_layer_call_fn, lstm_cell_176_layer_call_and_return_conditional_losses while saving (showing 2 of 2). These functions will not be directly callable after loading.\n"
     ]
    },
    {
     "name": "stdout",
     "output_type": "stream",
     "text": [
      "INFO:tensorflow:Assets written to: saved_model/vnstock/LTC/assets\n"
     ]
    },
    {
     "name": "stderr",
     "output_type": "stream",
     "text": [
      "INFO:tensorflow:Assets written to: saved_model/vnstock/LTC/assets\n"
     ]
    },
    {
     "name": "stdout",
     "output_type": "stream",
     "text": [
      "Train and select model for ONE\n",
      "On fold: -- 0\n",
      "Val MSE: 0.033866286277770996 - Test MSE: 0.04728057235479355\n",
      "On fold: -- 1\n",
      "Val MSE: 0.029150821268558502 - Test MSE: 0.04807695373892784\n",
      "On fold: -- 2\n",
      "Val MSE: 0.017703473567962646 - Test MSE: 0.04066116362810135\n",
      "On fold: -- 3\n",
      "Val MSE: 0.02193790301680565 - Test MSE: 0.04275038465857506\n",
      "On fold: -- 4\n",
      "Val MSE: 0.031040700152516365 - Test MSE: 0.044341929256916046\n",
      "Overall MSE:  0.04462220072746277\n"
     ]
    },
    {
     "name": "stderr",
     "output_type": "stream",
     "text": [
      "WARNING:absl:Found untraced functions such as lstm_cell_179_layer_call_fn, lstm_cell_179_layer_call_and_return_conditional_losses while saving (showing 2 of 2). These functions will not be directly callable after loading.\n"
     ]
    },
    {
     "name": "stdout",
     "output_type": "stream",
     "text": [
      "INFO:tensorflow:Assets written to: saved_model/vnstock/ONE/assets\n"
     ]
    },
    {
     "name": "stderr",
     "output_type": "stream",
     "text": [
      "INFO:tensorflow:Assets written to: saved_model/vnstock/ONE/assets\n"
     ]
    },
    {
     "name": "stdout",
     "output_type": "stream",
     "text": [
      "Train and select model for PMJ\n",
      "On fold: -- 0\n",
      "Val MSE: 842.9492797851562 - Test MSE: 28.308979034423828\n",
      "On fold: -- 1\n",
      "Val MSE: 5298.03125 - Test MSE: 28.315439224243164\n",
      "On fold: -- 2\n",
      "Val MSE: 0.33391430974006653 - Test MSE: 28.45314598083496\n",
      "On fold: -- 3\n",
      "Val MSE: 0.6176642775535583 - Test MSE: 28.549680709838867\n",
      "On fold: -- 4\n",
      "Val MSE: 0.2977033853530884 - Test MSE: 29.028404235839844\n",
      "Overall MSE:  28.531129837036133\n",
      "Train and select model for PMT\n",
      "On fold: -- 0\n",
      "Val MSE: 0.08478901535272598 - Test MSE: 0.06786582618951797\n",
      "On fold: -- 1\n",
      "Val MSE: 0.12236332893371582 - Test MSE: 0.049609072506427765\n",
      "On fold: -- 2\n",
      "Val MSE: 0.08587227761745453 - Test MSE: 0.04895203933119774\n",
      "On fold: -- 3\n",
      "Val MSE: 0.04533075913786888 - Test MSE: 0.05036528781056404\n",
      "On fold: -- 4\n",
      "Val MSE: 0.07625652849674225 - Test MSE: 0.04964796081185341\n",
      "Overall MSE:  0.053288037329912184\n"
     ]
    },
    {
     "name": "stderr",
     "output_type": "stream",
     "text": [
      "WARNING:absl:Found untraced functions such as lstm_cell_189_layer_call_fn, lstm_cell_189_layer_call_and_return_conditional_losses while saving (showing 2 of 2). These functions will not be directly callable after loading.\n"
     ]
    },
    {
     "name": "stdout",
     "output_type": "stream",
     "text": [
      "INFO:tensorflow:Assets written to: saved_model/vnstock/PMT/assets\n"
     ]
    },
    {
     "name": "stderr",
     "output_type": "stream",
     "text": [
      "INFO:tensorflow:Assets written to: saved_model/vnstock/PMT/assets\n"
     ]
    },
    {
     "name": "stdout",
     "output_type": "stream",
     "text": [
      "Train and select model for POT\n",
      "On fold: -- 0\n",
      "Val MSE: 0.0627257376909256 - Test MSE: 0.08321273326873779\n",
      "On fold: -- 1\n",
      "Val MSE: 0.04874890297651291 - Test MSE: 0.06417948007583618\n",
      "On fold: -- 2\n",
      "Val MSE: 0.032914236187934875 - Test MSE: 0.05686648562550545\n",
      "On fold: -- 3\n",
      "Val MSE: 0.028812874108552933 - Test MSE: 0.06079059839248657\n",
      "On fold: -- 4\n",
      "Val MSE: 0.03679768368601799 - Test MSE: 0.057504892349243164\n",
      "Overall MSE:  0.06451083794236183\n"
     ]
    },
    {
     "name": "stderr",
     "output_type": "stream",
     "text": [
      "WARNING:absl:Found untraced functions such as lstm_cell_194_layer_call_fn, lstm_cell_194_layer_call_and_return_conditional_losses while saving (showing 2 of 2). These functions will not be directly callable after loading.\n"
     ]
    },
    {
     "name": "stdout",
     "output_type": "stream",
     "text": [
      "INFO:tensorflow:Assets written to: saved_model/vnstock/POT/assets\n"
     ]
    },
    {
     "name": "stderr",
     "output_type": "stream",
     "text": [
      "INFO:tensorflow:Assets written to: saved_model/vnstock/POT/assets\n"
     ]
    },
    {
     "name": "stdout",
     "output_type": "stream",
     "text": [
      "Train and select model for SAM\n",
      "On fold: -- 0\n",
      "Val MSE: 0.06031684949994087 - Test MSE: 0.045227836817502975\n",
      "On fold: -- 1\n",
      "Val MSE: 0.03332701697945595 - Test MSE: 0.04785250872373581\n",
      "On fold: -- 2\n",
      "Val MSE: 0.03734232857823372 - Test MSE: 0.04697207361459732\n",
      "On fold: -- 3\n",
      "Val MSE: 0.032477039843797684 - Test MSE: 0.04376484453678131\n",
      "On fold: -- 4\n",
      "Val MSE: 0.034052904695272446 - Test MSE: 0.04091618210077286\n",
      "Overall MSE:  0.044946689158678055\n"
     ]
    },
    {
     "name": "stderr",
     "output_type": "stream",
     "text": [
      "WARNING:absl:Found untraced functions such as lstm_cell_201_layer_call_fn, lstm_cell_201_layer_call_and_return_conditional_losses while saving (showing 2 of 2). These functions will not be directly callable after loading.\n"
     ]
    },
    {
     "name": "stdout",
     "output_type": "stream",
     "text": [
      "INFO:tensorflow:Assets written to: saved_model/vnstock/SAM/assets\n"
     ]
    },
    {
     "name": "stderr",
     "output_type": "stream",
     "text": [
      "INFO:tensorflow:Assets written to: saved_model/vnstock/SAM/assets\n"
     ]
    },
    {
     "name": "stdout",
     "output_type": "stream",
     "text": [
      "Train and select model for SBD\n",
      "On fold: -- 0\n",
      "Val MSE: 0.18539927899837494 - Test MSE: 0.07225722074508667\n",
      "On fold: -- 1\n",
      "Val MSE: 0.044419921934604645 - Test MSE: 0.06789958477020264\n",
      "On fold: -- 2\n",
      "Val MSE: 0.06602182239294052 - Test MSE: 0.08187568932771683\n",
      "On fold: -- 3\n",
      "Val MSE: 0.024791628122329712 - Test MSE: 0.06683646142482758\n",
      "On fold: -- 4\n",
      "Val MSE: 0.1415191888809204 - Test MSE: 0.06760270893573761\n",
      "Overall MSE:  0.07129433304071427\n",
      "Train and select model for SGT\n",
      "On fold: -- 0\n",
      "Val MSE: 0.0333394892513752 - Test MSE: 0.05752745643258095\n",
      "On fold: -- 1\n",
      "Val MSE: 0.060584984719753265 - Test MSE: 0.05895557627081871\n",
      "On fold: -- 2\n",
      "Val MSE: 0.04435757175087929 - Test MSE: 0.06232648715376854\n",
      "On fold: -- 3\n",
      "Val MSE: 0.06579415500164032 - Test MSE: 0.06337247788906097\n",
      "On fold: -- 4\n",
      "Val MSE: 0.0464462973177433 - Test MSE: 0.0619220957159996\n",
      "Overall MSE:  0.06082081869244575\n"
     ]
    },
    {
     "name": "stderr",
     "output_type": "stream",
     "text": [
      "WARNING:absl:Found untraced functions such as lstm_cell_207_layer_call_fn, lstm_cell_207_layer_call_and_return_conditional_losses while saving (showing 2 of 2). These functions will not be directly callable after loading.\n"
     ]
    },
    {
     "name": "stdout",
     "output_type": "stream",
     "text": [
      "INFO:tensorflow:Assets written to: saved_model/vnstock/SGT/assets\n"
     ]
    },
    {
     "name": "stderr",
     "output_type": "stream",
     "text": [
      "INFO:tensorflow:Assets written to: saved_model/vnstock/SGT/assets\n"
     ]
    },
    {
     "name": "stdout",
     "output_type": "stream",
     "text": [
      "Train and select model for SMT\n",
      "On fold: -- 0\n",
      "Val MSE: 0.3055422306060791 - Test MSE: 0.16076205670833588\n",
      "On fold: -- 1\n",
      "Val MSE: 0.03327411413192749 - Test MSE: 0.12458694726228714\n",
      "On fold: -- 2\n",
      "Val MSE: 0.02616090141236782 - Test MSE: 0.12116092443466187\n",
      "On fold: -- 3\n",
      "Val MSE: 0.03814936429262161 - Test MSE: 0.1268572360277176\n",
      "On fold: -- 4\n",
      "Val MSE: 0.04648054763674736 - Test MSE: 0.10956058651208878\n",
      "Overall MSE:  0.12858555018901824\n",
      "Train and select model for SRA\n",
      "On fold: -- 0\n",
      "Val MSE: 0.0276053324341774 - Test MSE: 0.04772413149476051\n",
      "On fold: -- 1\n",
      "Val MSE: 0.045216649770736694 - Test MSE: 0.0427347831428051\n",
      "On fold: -- 2\n",
      "Val MSE: 0.030912945047020912 - Test MSE: 0.04297575727105141\n",
      "On fold: -- 3\n",
      "Val MSE: 0.06156652793288231 - Test MSE: 0.04626445099711418\n",
      "On fold: -- 4\n",
      "Val MSE: 0.12162671238183975 - Test MSE: 0.042749468237161636\n",
      "Overall MSE:  0.04448971822857857\n"
     ]
    },
    {
     "name": "stderr",
     "output_type": "stream",
     "text": [
      "WARNING:absl:Found untraced functions such as lstm_cell_218_layer_call_fn, lstm_cell_218_layer_call_and_return_conditional_losses while saving (showing 2 of 2). These functions will not be directly callable after loading.\n"
     ]
    },
    {
     "name": "stdout",
     "output_type": "stream",
     "text": [
      "INFO:tensorflow:Assets written to: saved_model/vnstock/SRA/assets\n"
     ]
    },
    {
     "name": "stderr",
     "output_type": "stream",
     "text": [
      "INFO:tensorflow:Assets written to: saved_model/vnstock/SRA/assets\n"
     ]
    },
    {
     "name": "stdout",
     "output_type": "stream",
     "text": [
      "Train and select model for SRB\n",
      "On fold: -- 0\n",
      "Val MSE: 0.0366639718413353 - Test MSE: 0.06571907550096512\n",
      "On fold: -- 1\n",
      "Val MSE: 0.039575472474098206 - Test MSE: 0.06387548893690109\n",
      "On fold: -- 2\n",
      "Val MSE: 0.03253795579075813 - Test MSE: 0.061700258404016495\n",
      "On fold: -- 3\n",
      "Val MSE: 0.1786567121744156 - Test MSE: 0.05940204858779907\n",
      "On fold: -- 4\n",
      "Val MSE: 0.04983605444431305 - Test MSE: 0.059984758496284485\n",
      "Overall MSE:  0.06213632598519325\n"
     ]
    },
    {
     "name": "stderr",
     "output_type": "stream",
     "text": [
      "WARNING:absl:Found untraced functions such as lstm_cell_225_layer_call_fn, lstm_cell_225_layer_call_and_return_conditional_losses while saving (showing 2 of 2). These functions will not be directly callable after loading.\n"
     ]
    },
    {
     "name": "stdout",
     "output_type": "stream",
     "text": [
      "INFO:tensorflow:Assets written to: saved_model/vnstock/SRB/assets\n"
     ]
    },
    {
     "name": "stderr",
     "output_type": "stream",
     "text": [
      "INFO:tensorflow:Assets written to: saved_model/vnstock/SRB/assets\n"
     ]
    },
    {
     "name": "stdout",
     "output_type": "stream",
     "text": [
      "Train and select model for ST8\n",
      "On fold: -- 0\n",
      "Val MSE: 0.04888761043548584 - Test MSE: 0.04473021253943443\n",
      "On fold: -- 1\n",
      "Val MSE: 0.036766815930604935 - Test MSE: 0.0393214225769043\n",
      "On fold: -- 2\n",
      "Val MSE: 0.04227627441287041 - Test MSE: 0.04034058004617691\n",
      "On fold: -- 3\n",
      "Val MSE: 0.027380988001823425 - Test MSE: 0.03990167751908302\n",
      "On fold: -- 4\n",
      "Val MSE: 0.04835149645805359 - Test MSE: 0.040558796375989914\n",
      "Overall MSE:  0.040970537811517715\n"
     ]
    },
    {
     "name": "stderr",
     "output_type": "stream",
     "text": [
      "WARNING:absl:Found untraced functions such as lstm_cell_228_layer_call_fn, lstm_cell_228_layer_call_and_return_conditional_losses while saving (showing 2 of 2). These functions will not be directly callable after loading.\n"
     ]
    },
    {
     "name": "stdout",
     "output_type": "stream",
     "text": [
      "INFO:tensorflow:Assets written to: saved_model/vnstock/ST8/assets\n"
     ]
    },
    {
     "name": "stderr",
     "output_type": "stream",
     "text": [
      "INFO:tensorflow:Assets written to: saved_model/vnstock/ST8/assets\n"
     ]
    },
    {
     "name": "stdout",
     "output_type": "stream",
     "text": [
      "Train and select model for TST\n",
      "On fold: -- 0\n",
      "Val MSE: 0.047920677810907364 - Test MSE: 0.07140334695577621\n",
      "On fold: -- 1\n",
      "Val MSE: 0.048069506883621216 - Test MSE: 0.06722897291183472\n",
      "On fold: -- 2\n",
      "Val MSE: 0.03064453974366188 - Test MSE: 0.06289415806531906\n",
      "On fold: -- 3\n",
      "Val MSE: 0.03241308033466339 - Test MSE: 0.06329348683357239\n",
      "On fold: -- 4\n",
      "Val MSE: 0.08773061633110046 - Test MSE: 0.06390740722417831\n",
      "Overall MSE:  0.06574547439813613\n"
     ]
    },
    {
     "name": "stderr",
     "output_type": "stream",
     "text": [
      "WARNING:absl:Found untraced functions such as lstm_cell_234_layer_call_fn, lstm_cell_234_layer_call_and_return_conditional_losses while saving (showing 2 of 2). These functions will not be directly callable after loading.\n"
     ]
    },
    {
     "name": "stdout",
     "output_type": "stream",
     "text": [
      "INFO:tensorflow:Assets written to: saved_model/vnstock/TST/assets\n"
     ]
    },
    {
     "name": "stderr",
     "output_type": "stream",
     "text": [
      "INFO:tensorflow:Assets written to: saved_model/vnstock/TST/assets\n"
     ]
    },
    {
     "name": "stdout",
     "output_type": "stream",
     "text": [
      "Train and select model for UNI\n",
      "On fold: -- 0\n",
      "Val MSE: 0.0462820902466774 - Test MSE: 0.05415618047118187\n",
      "On fold: -- 1\n",
      "Val MSE: 0.03553202748298645 - Test MSE: 0.055997420102357864\n",
      "On fold: -- 2\n",
      "Val MSE: 0.02333044819533825 - Test MSE: 0.04604329541325569\n",
      "On fold: -- 3\n",
      "Val MSE: 0.05394158139824867 - Test MSE: 0.0525529682636261\n",
      "On fold: -- 4\n",
      "Val MSE: 0.024380512535572052 - Test MSE: 0.04590188339352608\n",
      "Overall MSE:  0.05093034952878952\n"
     ]
    },
    {
     "name": "stderr",
     "output_type": "stream",
     "text": [
      "WARNING:absl:Found untraced functions such as lstm_cell_241_layer_call_fn, lstm_cell_241_layer_call_and_return_conditional_losses while saving (showing 2 of 2). These functions will not be directly callable after loading.\n"
     ]
    },
    {
     "name": "stdout",
     "output_type": "stream",
     "text": [
      "INFO:tensorflow:Assets written to: saved_model/vnstock/UNI/assets\n"
     ]
    },
    {
     "name": "stderr",
     "output_type": "stream",
     "text": [
      "INFO:tensorflow:Assets written to: saved_model/vnstock/UNI/assets\n"
     ]
    },
    {
     "name": "stdout",
     "output_type": "stream",
     "text": [
      "Train and select model for VAT\n",
      "On fold: -- 0\n"
     ]
    },
    {
     "name": "stderr",
     "output_type": "stream",
     "text": [
      "/var/folders/gk/fvlxt4n12ldf5rf0ycgz750h0000gn/T/ipykernel_837/2445643204.py:40: RuntimeWarning: invalid value encountered in divide\n",
      "  X_norm[i] = (X[i] - min_feature) / (max_feature - min_feature)\n",
      "/var/folders/gk/fvlxt4n12ldf5rf0ycgz750h0000gn/T/ipykernel_837/2445643204.py:41: RuntimeWarning: invalid value encountered in divide\n",
      "  y_norm[i] = (y[i] - min_feature) / (max_feature - min_feature)\n",
      "/var/folders/gk/fvlxt4n12ldf5rf0ycgz750h0000gn/T/ipykernel_837/2445643204.py:41: RuntimeWarning: divide by zero encountered in divide\n",
      "  y_norm[i] = (y[i] - min_feature) / (max_feature - min_feature)\n"
     ]
    },
    {
     "name": "stdout",
     "output_type": "stream",
     "text": [
      "Val MSE: 0.05058509483933449 - Test MSE: nan\n",
      "On fold: -- 1\n",
      "Val MSE: 0.03386431187391281 - Test MSE: nan\n",
      "On fold: -- 2\n",
      "Val MSE: 0.06850689649581909 - Test MSE: nan\n",
      "On fold: -- 3\n",
      "Val MSE: 0.03184381499886513 - Test MSE: nan\n",
      "On fold: -- 4\n",
      "Val MSE: 0.0703408345580101 - Test MSE: nan\n",
      "Overall MSE:  nan\n",
      "Train and select model for VEC\n",
      "On fold: -- 0\n",
      "Val MSE: 0.1331247240304947 - Test MSE: 0.08387688547372818\n",
      "On fold: -- 1\n",
      "Val MSE: 0.13207240402698517 - Test MSE: 0.04662304371595383\n",
      "On fold: -- 2\n",
      "Val MSE: 0.02081948146224022 - Test MSE: 0.052208758890628815\n",
      "On fold: -- 3\n",
      "Val MSE: 0.03365642577409744 - Test MSE: 0.04697348177433014\n",
      "On fold: -- 4\n",
      "Val MSE: 0.0585600882768631 - Test MSE: 0.03829338774085045\n",
      "Overall MSE:  0.05359511151909828\n"
     ]
    },
    {
     "name": "stderr",
     "output_type": "stream",
     "text": [
      "WARNING:absl:Found untraced functions such as lstm_cell_251_layer_call_fn, lstm_cell_251_layer_call_and_return_conditional_losses while saving (showing 2 of 2). These functions will not be directly callable after loading.\n"
     ]
    },
    {
     "name": "stdout",
     "output_type": "stream",
     "text": [
      "INFO:tensorflow:Assets written to: saved_model/vnstock/VEC/assets\n"
     ]
    },
    {
     "name": "stderr",
     "output_type": "stream",
     "text": [
      "INFO:tensorflow:Assets written to: saved_model/vnstock/VEC/assets\n"
     ]
    },
    {
     "name": "stdout",
     "output_type": "stream",
     "text": [
      "Train and select model for VIE\n",
      "On fold: -- 0\n"
     ]
    },
    {
     "name": "stderr",
     "output_type": "stream",
     "text": [
      "/var/folders/gk/fvlxt4n12ldf5rf0ycgz750h0000gn/T/ipykernel_837/2445643204.py:40: RuntimeWarning: invalid value encountered in divide\n",
      "  X_norm[i] = (X[i] - min_feature) / (max_feature - min_feature)\n",
      "/var/folders/gk/fvlxt4n12ldf5rf0ycgz750h0000gn/T/ipykernel_837/2445643204.py:41: RuntimeWarning: invalid value encountered in divide\n",
      "  y_norm[i] = (y[i] - min_feature) / (max_feature - min_feature)\n",
      "/var/folders/gk/fvlxt4n12ldf5rf0ycgz750h0000gn/T/ipykernel_837/2445643204.py:41: RuntimeWarning: divide by zero encountered in divide\n",
      "  y_norm[i] = (y[i] - min_feature) / (max_feature - min_feature)\n"
     ]
    },
    {
     "name": "stdout",
     "output_type": "stream",
     "text": [
      "Val MSE: nan - Test MSE: 0.3111576437950134\n",
      "On fold: -- 1\n",
      "Val MSE: nan - Test MSE: nan\n",
      "On fold: -- 2\n",
      "Val MSE: nan - Test MSE: nan\n",
      "On fold: -- 3\n",
      "Val MSE: nan - Test MSE: nan\n",
      "On fold: -- 4\n",
      "Val MSE: nan - Test MSE: nan\n",
      "Overall MSE:  nan\n",
      "Train and select model for VLA\n",
      "On fold: -- 0\n",
      "Val MSE: 0.053113292902708054 - Test MSE: 0.08269046992063522\n",
      "On fold: -- 1\n",
      "Val MSE: 0.03688882663846016 - Test MSE: 0.061779752373695374\n",
      "On fold: -- 2\n",
      "Val MSE: 0.02372221276164055 - Test MSE: 0.0653274729847908\n",
      "On fold: -- 3\n",
      "Val MSE: 0.04477129504084587 - Test MSE: 0.06657061725854874\n",
      "On fold: -- 4\n",
      "Val MSE: 0.12331400066614151 - Test MSE: 0.06307578831911087\n",
      "Overall MSE:  0.0678888201713562\n"
     ]
    },
    {
     "name": "stderr",
     "output_type": "stream",
     "text": [
      "WARNING:absl:Found untraced functions such as lstm_cell_258_layer_call_fn, lstm_cell_258_layer_call_and_return_conditional_losses while saving (showing 2 of 2). These functions will not be directly callable after loading.\n"
     ]
    },
    {
     "name": "stdout",
     "output_type": "stream",
     "text": [
      "INFO:tensorflow:Assets written to: saved_model/vnstock/VLA/assets\n"
     ]
    },
    {
     "name": "stderr",
     "output_type": "stream",
     "text": [
      "INFO:tensorflow:Assets written to: saved_model/vnstock/VLA/assets\n"
     ]
    },
    {
     "name": "stdout",
     "output_type": "stream",
     "text": [
      "Train and select model for VTC\n",
      "On fold: -- 0\n",
      "Val MSE: 0.04057393595576286 - Test MSE: 0.08662206679582596\n",
      "On fold: -- 1\n",
      "Val MSE: 0.04010061174631119 - Test MSE: 0.09229376912117004\n",
      "On fold: -- 2\n",
      "Val MSE: 0.08069667220115662 - Test MSE: 0.0870145782828331\n",
      "On fold: -- 3\n",
      "Val MSE: 0.03679899871349335 - Test MSE: 0.08962731808423996\n",
      "On fold: -- 4\n",
      "Val MSE: 0.07185742259025574 - Test MSE: 0.08240296691656113\n",
      "Overall MSE:  0.08759213984012604\n"
     ]
    }
   ],
   "source": [
    "#Start predict prices for all 28 companies in the list\n",
    "for i in range(len(saved_companies)): \n",
    "    company_name = saved_companies[i]\n",
    "    print(\"Train and select model for\", company_name)\n",
    "    df = dfs[i][features]\n",
    "    train_and_select_company(company_name, df)\n",
    "    "
   ]
  },
  {
   "cell_type": "code",
   "execution_count": 86,
   "metadata": {},
   "outputs": [
    {
     "name": "stdout",
     "output_type": "stream",
     "text": [
      "['VTE', 'CMG', 'ELC', 'FPT', 'HIG', 'HPT', 'ITD', 'KST', 'LTC', 'ONE', 'PMT', 'POT', 'SAM', 'SGT', 'SRA', 'SRB', 'ST8', 'TST', 'UNI', 'VEC', 'VLA']\n"
     ]
    }
   ],
   "source": [
    "print(good_companies)"
   ]
  },
  {
   "cell_type": "code",
   "execution_count": 100,
   "metadata": {},
   "outputs": [],
   "source": [
    "def norm_X(X):\n",
    "    min_feature = np.min(X)\n",
    "    max_feature = np.max(X)\n",
    "    X_norm = (X - min_feature) / (max_feature - min_feature)\n",
    "    return X_norm, min_feature, max_feature\n",
    "\n",
    "def denorm(y, min_feature, max_feature):\n",
    "    return y * (max_feature - min_feature) + min_feature\n"
   ]
  },
  {
   "cell_type": "code",
   "execution_count": 106,
   "metadata": {},
   "outputs": [
    {
     "data": {
      "text/html": [
       "<div>\n",
       "<style scoped>\n",
       "    .dataframe tbody tr th:only-of-type {\n",
       "        vertical-align: middle;\n",
       "    }\n",
       "\n",
       "    .dataframe tbody tr th {\n",
       "        vertical-align: top;\n",
       "    }\n",
       "\n",
       "    .dataframe thead th {\n",
       "        text-align: right;\n",
       "    }\n",
       "</style>\n",
       "<table border=\"1\" class=\"dataframe\">\n",
       "  <thead>\n",
       "    <tr style=\"text-align: right;\">\n",
       "      <th></th>\n",
       "      <th>Unnamed: 0</th>\n",
       "      <th>ticker</th>\n",
       "      <th>group_code</th>\n",
       "      <th>company_name</th>\n",
       "      <th>company_short_name</th>\n",
       "    </tr>\n",
       "  </thead>\n",
       "  <tbody>\n",
       "    <tr>\n",
       "      <th>0</th>\n",
       "      <td>0</td>\n",
       "      <td>VVS</td>\n",
       "      <td>UpcomIndex</td>\n",
       "      <td>Công ty Cổ phần Đầu tư Phát triển Máy Việt Nam</td>\n",
       "      <td>Đầu tư Phát triển Máy Việt Nam</td>\n",
       "    </tr>\n",
       "    <tr>\n",
       "      <th>1</th>\n",
       "      <td>1</td>\n",
       "      <td>XDC</td>\n",
       "      <td>UpcomIndex</td>\n",
       "      <td>Công ty TNHH MTV Xây dựng Công trình Tân Cảng</td>\n",
       "      <td>Xây dựng Công trình Tân Cảng</td>\n",
       "    </tr>\n",
       "    <tr>\n",
       "      <th>2</th>\n",
       "      <td>2</td>\n",
       "      <td>HSV</td>\n",
       "      <td>UpcomIndex</td>\n",
       "      <td>Công ty Cổ phần Gang Thép Hà Nội</td>\n",
       "      <td>Gang Thép Hà Nội</td>\n",
       "    </tr>\n",
       "    <tr>\n",
       "      <th>3</th>\n",
       "      <td>3</td>\n",
       "      <td>CST</td>\n",
       "      <td>UpcomIndex</td>\n",
       "      <td>Công ty Cổ phần Than Cao Sơn - TKV</td>\n",
       "      <td>Than Cao Sơn - TKV</td>\n",
       "    </tr>\n",
       "    <tr>\n",
       "      <th>4</th>\n",
       "      <td>4</td>\n",
       "      <td>BVL</td>\n",
       "      <td>UpcomIndex</td>\n",
       "      <td>Công ty Cổ phần BV Land</td>\n",
       "      <td>BV Land</td>\n",
       "    </tr>\n",
       "  </tbody>\n",
       "</table>\n",
       "</div>"
      ],
      "text/plain": [
       "   Unnamed: 0 ticker  group_code  \\\n",
       "0           0    VVS  UpcomIndex   \n",
       "1           1    XDC  UpcomIndex   \n",
       "2           2    HSV  UpcomIndex   \n",
       "3           3    CST  UpcomIndex   \n",
       "4           4    BVL  UpcomIndex   \n",
       "\n",
       "                                     company_name  \\\n",
       "0  Công ty Cổ phần Đầu tư Phát triển Máy Việt Nam   \n",
       "1   Công ty TNHH MTV Xây dựng Công trình Tân Cảng   \n",
       "2                Công ty Cổ phần Gang Thép Hà Nội   \n",
       "3              Công ty Cổ phần Than Cao Sơn - TKV   \n",
       "4                         Công ty Cổ phần BV Land   \n",
       "\n",
       "               company_short_name  \n",
       "0  Đầu tư Phát triển Máy Việt Nam  \n",
       "1    Xây dựng Công trình Tân Cảng  \n",
       "2                Gang Thép Hà Nội  \n",
       "3              Than Cao Sơn - TKV  \n",
       "4                         BV Land  "
      ]
     },
     "execution_count": 106,
     "metadata": {},
     "output_type": "execute_result"
    }
   ],
   "source": [
    "company_names.head()"
   ]
  },
  {
   "cell_type": "code",
   "execution_count": 147,
   "metadata": {},
   "outputs": [],
   "source": [
    "#prediction for the next 7 days\n",
    "portfolio = {}\n",
    "\n",
    "def predict_company(company): \n",
    "    result = []\n",
    "    short_name = str(company_names[company_names.ticker == company]['company_name'].values[0])\n",
    "    group_code = str(company_names[company_names.ticker == company]['group_code'].values[0])\n",
    "    filename = history_path + company + \"-\" + group_code + '-History.csv'\n",
    "    X = pd.read_csv(filename).iloc[-window_size:][features]\n",
    "    indicators = calc_indicators(X)\n",
    "    X_np  = X.to_numpy().reshape(1, X.shape[0], X.shape[1])\n",
    "    X_norm, min_feature, max_feature = norm_X(X_np)\n",
    "    model = tf.keras.models.load_model('saved_model/vnstock/VTE', compile=False)\n",
    "    y_pred = model.predict(X_norm)\n",
    "    y_pred_denorm = denorm(y_pred, min_feature, max_feature)\n",
    "    rsi = calc_indicator(X)['RSI'].iloc[-pred_time:]\n",
    "    buy = np.argmin(rsi)\n",
    "    sell = np.argmax(rsi)\n",
    "    should_buy = buy if rsi.iloc[buy] < 20 else \"\"\n",
    "    should_sell = sell if rsi.iloc[sell] > 80 else \"\"\n",
    "    portfolio[company] = [company, short_name, y_pred_denorm.flatten(), should_buy, should_sell]"
   ]
  },
  {
   "cell_type": "code",
   "execution_count": 149,
   "metadata": {},
   "outputs": [
    {
     "name": "stdout",
     "output_type": "stream",
     "text": [
      "1/1 [==============================] - 2s 2s/step\n",
      "1/1 [==============================] - 2s 2s/step\n",
      "1/1 [==============================] - 2s 2s/step\n",
      "1/1 [==============================] - 2s 2s/step\n",
      "1/1 [==============================] - 2s 2s/step\n",
      "1/1 [==============================] - 2s 2s/step\n",
      "1/1 [==============================] - 2s 2s/step\n",
      "1/1 [==============================] - 2s 2s/step\n",
      "1/1 [==============================] - 2s 2s/step\n",
      "1/1 [==============================] - 2s 2s/step\n",
      "1/1 [==============================] - 2s 2s/step\n",
      "1/1 [==============================] - 2s 2s/step\n",
      "1/1 [==============================] - 2s 2s/step\n",
      "1/1 [==============================] - 2s 2s/step\n",
      "1/1 [==============================] - 2s 2s/step\n",
      "1/1 [==============================] - 1s 1s/step\n",
      "1/1 [==============================] - 2s 2s/step\n",
      "1/1 [==============================] - 2s 2s/step\n",
      "1/1 [==============================] - 2s 2s/step\n",
      "1/1 [==============================] - 1s 1s/step\n",
      "1/1 [==============================] - 2s 2s/step\n"
     ]
    }
   ],
   "source": [
    "#Predict for the last 7 days\n",
    "for company in good_companies: \n",
    "    predict_company(company)\n",
    "    "
   ]
  },
  {
   "cell_type": "code",
   "execution_count": 152,
   "metadata": {},
   "outputs": [],
   "source": [
    "my_portfolio = pd.DataFrame.from_dict(portfolio, orient='index',\n",
    "                       columns=['Ticker', 'Company Name', '7 Day Prediction', \"Buy On\", 'Sell On'])"
   ]
  },
  {
   "cell_type": "code",
   "execution_count": 153,
   "metadata": {},
   "outputs": [
    {
     "data": {
      "text/html": [
       "<div>\n",
       "<style scoped>\n",
       "    .dataframe tbody tr th:only-of-type {\n",
       "        vertical-align: middle;\n",
       "    }\n",
       "\n",
       "    .dataframe tbody tr th {\n",
       "        vertical-align: top;\n",
       "    }\n",
       "\n",
       "    .dataframe thead th {\n",
       "        text-align: right;\n",
       "    }\n",
       "</style>\n",
       "<table border=\"1\" class=\"dataframe\">\n",
       "  <thead>\n",
       "    <tr style=\"text-align: right;\">\n",
       "      <th></th>\n",
       "      <th>Ticker</th>\n",
       "      <th>Company Name</th>\n",
       "      <th>7 Day Prediction</th>\n",
       "      <th>Buy On</th>\n",
       "      <th>Sell On</th>\n",
       "    </tr>\n",
       "  </thead>\n",
       "  <tbody>\n",
       "    <tr>\n",
       "      <th>VTE</th>\n",
       "      <td>VTE</td>\n",
       "      <td>Công ty Cổ phần VINACAP Kim Long</td>\n",
       "      <td>[6705.3076, 6703.3096, 6699.3613, 6694.137, 66...</td>\n",
       "      <td></td>\n",
       "      <td>0</td>\n",
       "    </tr>\n",
       "    <tr>\n",
       "      <th>CMG</th>\n",
       "      <td>CMG</td>\n",
       "      <td>Công ty Cổ phần Tập đoàn Công nghệ CMC</td>\n",
       "      <td>[41622.043, 41593.742, 41472.098, 41286.81, 41...</td>\n",
       "      <td>2</td>\n",
       "      <td></td>\n",
       "    </tr>\n",
       "    <tr>\n",
       "      <th>ELC</th>\n",
       "      <td>ELC</td>\n",
       "      <td>Công ty Cổ phần Công nghệ - Viễn thông ELCOM</td>\n",
       "      <td>[12343.875, 12468.934, 12556.421, 12538.179, 1...</td>\n",
       "      <td>5</td>\n",
       "      <td>0</td>\n",
       "    </tr>\n",
       "    <tr>\n",
       "      <th>FPT</th>\n",
       "      <td>FPT</td>\n",
       "      <td>Công ty Cổ phần FPT</td>\n",
       "      <td>[81208.48, 81451.61, 81633.22, 81693.68, 81654...</td>\n",
       "      <td>5</td>\n",
       "      <td>0</td>\n",
       "    </tr>\n",
       "    <tr>\n",
       "      <th>HIG</th>\n",
       "      <td>HIG</td>\n",
       "      <td>Công ty Cổ phần Tập Đoàn HIPT</td>\n",
       "      <td>[7077.114, 7070.3096, 7058.0767, 7079.3755, 71...</td>\n",
       "      <td></td>\n",
       "      <td></td>\n",
       "    </tr>\n",
       "    <tr>\n",
       "      <th>HPT</th>\n",
       "      <td>HPT</td>\n",
       "      <td>Công ty Cổ phần Dịch vụ Công nghệ Tin học HPT</td>\n",
       "      <td>[14769.451, 14445.904, 14020.525, 13616.316, 1...</td>\n",
       "      <td>2</td>\n",
       "      <td></td>\n",
       "    </tr>\n",
       "    <tr>\n",
       "      <th>ITD</th>\n",
       "      <td>ITD</td>\n",
       "      <td>Công ty Cổ phần Công nghệ Tiên Phong</td>\n",
       "      <td>[12543.264, 12512.816, 12474.336, 12428.213, 1...</td>\n",
       "      <td>6</td>\n",
       "      <td></td>\n",
       "    </tr>\n",
       "    <tr>\n",
       "      <th>KST</th>\n",
       "      <td>KST</td>\n",
       "      <td>Công ty Cổ phần KASATI</td>\n",
       "      <td>[14564.437, 14688.747, 14797.672, 14889.408, 1...</td>\n",
       "      <td></td>\n",
       "      <td>1</td>\n",
       "    </tr>\n",
       "    <tr>\n",
       "      <th>LTC</th>\n",
       "      <td>LTC</td>\n",
       "      <td>Công ty Cổ phần Điện nhẹ Viễn Thông</td>\n",
       "      <td>[1120.9019, 1121.0873, 1121.2756, 1121.4598, 1...</td>\n",
       "      <td>0</td>\n",
       "      <td>5</td>\n",
       "    </tr>\n",
       "    <tr>\n",
       "      <th>ONE</th>\n",
       "      <td>ONE</td>\n",
       "      <td>Công ty Cổ phần Truyền thông số 1</td>\n",
       "      <td>[5691.53, 5668.791, 5689.1997, 5720.899, 5743....</td>\n",
       "      <td></td>\n",
       "      <td></td>\n",
       "    </tr>\n",
       "    <tr>\n",
       "      <th>PMT</th>\n",
       "      <td>PMT</td>\n",
       "      <td>Công ty Cổ phần Viễn thông Telvina Việt Nam</td>\n",
       "      <td>[7277.6016, 7359.2817, 7451.0938, 7543.581, 76...</td>\n",
       "      <td></td>\n",
       "      <td>2</td>\n",
       "    </tr>\n",
       "    <tr>\n",
       "      <th>POT</th>\n",
       "      <td>POT</td>\n",
       "      <td>Công ty Cổ phần Thiết bị Bưu điện</td>\n",
       "      <td>[16733.266, 16763.8, 16755.707, 16801.13, 1685...</td>\n",
       "      <td></td>\n",
       "      <td></td>\n",
       "    </tr>\n",
       "    <tr>\n",
       "      <th>SAM</th>\n",
       "      <td>SAM</td>\n",
       "      <td>Công ty Cổ phần SAM Holdings</td>\n",
       "      <td>[6085.3105, 6118.924, 6127.4854, 6127.068, 612...</td>\n",
       "      <td></td>\n",
       "      <td>0</td>\n",
       "    </tr>\n",
       "    <tr>\n",
       "      <th>SGT</th>\n",
       "      <td>SGT</td>\n",
       "      <td>Công ty Cổ phần Công nghệ Viễn thông Sài Gòn</td>\n",
       "      <td>[12308.052, 12348.112, 12379.401, 12319.311, 1...</td>\n",
       "      <td></td>\n",
       "      <td></td>\n",
       "    </tr>\n",
       "    <tr>\n",
       "      <th>SRA</th>\n",
       "      <td>SRA</td>\n",
       "      <td>Công ty Cổ phần SARA Việt Nam</td>\n",
       "      <td>[3316.1992, 3326.3018, 3340.3838, 3379.3467, 3...</td>\n",
       "      <td></td>\n",
       "      <td>4</td>\n",
       "    </tr>\n",
       "    <tr>\n",
       "      <th>SRB</th>\n",
       "      <td>SRB</td>\n",
       "      <td>Công ty Cổ phần Tập đoàn Sara</td>\n",
       "      <td>[1780.9414, 1765.0645, 1753.1067, 1737.133, 17...</td>\n",
       "      <td>3</td>\n",
       "      <td></td>\n",
       "    </tr>\n",
       "    <tr>\n",
       "      <th>ST8</th>\n",
       "      <td>ST8</td>\n",
       "      <td>Công ty Cổ phần Siêu Thanh</td>\n",
       "      <td>[14716.871, 15320.956, 15753.461, 16178.063, 1...</td>\n",
       "      <td></td>\n",
       "      <td>1</td>\n",
       "    </tr>\n",
       "    <tr>\n",
       "      <th>TST</th>\n",
       "      <td>TST</td>\n",
       "      <td>Công ty Cổ phần Dịch vụ Kỹ thuật Viễn thông</td>\n",
       "      <td>[11212.503, 11048.463, 10902.286, 10776.983, 1...</td>\n",
       "      <td>4</td>\n",
       "      <td></td>\n",
       "    </tr>\n",
       "    <tr>\n",
       "      <th>UNI</th>\n",
       "      <td>UNI</td>\n",
       "      <td>Công ty Cổ phần Đầu tư và Phát triển Sao Mai Việt</td>\n",
       "      <td>[9214.901, 9187.115, 9140.583, 9135.6875, 9175...</td>\n",
       "      <td></td>\n",
       "      <td>0</td>\n",
       "    </tr>\n",
       "    <tr>\n",
       "      <th>VEC</th>\n",
       "      <td>VEC</td>\n",
       "      <td>Tổng Công ty Cổ phần Điện tử và Tin học Việt Nam</td>\n",
       "      <td>[10528.996, 10413.512, 10330.308, 10253.262, 1...</td>\n",
       "      <td>3</td>\n",
       "      <td>5</td>\n",
       "    </tr>\n",
       "    <tr>\n",
       "      <th>VLA</th>\n",
       "      <td>VLA</td>\n",
       "      <td>Công ty Cổ phần Đầu tư và Phát triển Công nghệ...</td>\n",
       "      <td>[64776.633, 64727.96, 64673.664, 64617.098, 64...</td>\n",
       "      <td></td>\n",
       "      <td>0</td>\n",
       "    </tr>\n",
       "  </tbody>\n",
       "</table>\n",
       "</div>"
      ],
      "text/plain": [
       "    Ticker                                       Company Name  \\\n",
       "VTE    VTE                   Công ty Cổ phần VINACAP Kim Long   \n",
       "CMG    CMG             Công ty Cổ phần Tập đoàn Công nghệ CMC   \n",
       "ELC    ELC       Công ty Cổ phần Công nghệ - Viễn thông ELCOM   \n",
       "FPT    FPT                                Công ty Cổ phần FPT   \n",
       "HIG    HIG                      Công ty Cổ phần Tập Đoàn HIPT   \n",
       "HPT    HPT      Công ty Cổ phần Dịch vụ Công nghệ Tin học HPT   \n",
       "ITD    ITD               Công ty Cổ phần Công nghệ Tiên Phong   \n",
       "KST    KST                             Công ty Cổ phần KASATI   \n",
       "LTC    LTC                Công ty Cổ phần Điện nhẹ Viễn Thông   \n",
       "ONE    ONE                  Công ty Cổ phần Truyền thông số 1   \n",
       "PMT    PMT        Công ty Cổ phần Viễn thông Telvina Việt Nam   \n",
       "POT    POT                  Công ty Cổ phần Thiết bị Bưu điện   \n",
       "SAM    SAM                       Công ty Cổ phần SAM Holdings   \n",
       "SGT    SGT       Công ty Cổ phần Công nghệ Viễn thông Sài Gòn   \n",
       "SRA    SRA                      Công ty Cổ phần SARA Việt Nam   \n",
       "SRB    SRB                      Công ty Cổ phần Tập đoàn Sara   \n",
       "ST8    ST8                         Công ty Cổ phần Siêu Thanh   \n",
       "TST    TST        Công ty Cổ phần Dịch vụ Kỹ thuật Viễn thông   \n",
       "UNI    UNI  Công ty Cổ phần Đầu tư và Phát triển Sao Mai Việt   \n",
       "VEC    VEC   Tổng Công ty Cổ phần Điện tử và Tin học Việt Nam   \n",
       "VLA    VLA  Công ty Cổ phần Đầu tư và Phát triển Công nghệ...   \n",
       "\n",
       "                                      7 Day Prediction Buy On Sell On  \n",
       "VTE  [6705.3076, 6703.3096, 6699.3613, 6694.137, 66...              0  \n",
       "CMG  [41622.043, 41593.742, 41472.098, 41286.81, 41...      2          \n",
       "ELC  [12343.875, 12468.934, 12556.421, 12538.179, 1...      5       0  \n",
       "FPT  [81208.48, 81451.61, 81633.22, 81693.68, 81654...      5       0  \n",
       "HIG  [7077.114, 7070.3096, 7058.0767, 7079.3755, 71...                 \n",
       "HPT  [14769.451, 14445.904, 14020.525, 13616.316, 1...      2          \n",
       "ITD  [12543.264, 12512.816, 12474.336, 12428.213, 1...      6          \n",
       "KST  [14564.437, 14688.747, 14797.672, 14889.408, 1...              1  \n",
       "LTC  [1120.9019, 1121.0873, 1121.2756, 1121.4598, 1...      0       5  \n",
       "ONE  [5691.53, 5668.791, 5689.1997, 5720.899, 5743....                 \n",
       "PMT  [7277.6016, 7359.2817, 7451.0938, 7543.581, 76...              2  \n",
       "POT  [16733.266, 16763.8, 16755.707, 16801.13, 1685...                 \n",
       "SAM  [6085.3105, 6118.924, 6127.4854, 6127.068, 612...              0  \n",
       "SGT  [12308.052, 12348.112, 12379.401, 12319.311, 1...                 \n",
       "SRA  [3316.1992, 3326.3018, 3340.3838, 3379.3467, 3...              4  \n",
       "SRB  [1780.9414, 1765.0645, 1753.1067, 1737.133, 17...      3          \n",
       "ST8  [14716.871, 15320.956, 15753.461, 16178.063, 1...              1  \n",
       "TST  [11212.503, 11048.463, 10902.286, 10776.983, 1...      4          \n",
       "UNI  [9214.901, 9187.115, 9140.583, 9135.6875, 9175...              0  \n",
       "VEC  [10528.996, 10413.512, 10330.308, 10253.262, 1...      3       5  \n",
       "VLA  [64776.633, 64727.96, 64673.664, 64617.098, 64...              0  "
      ]
     },
     "execution_count": 153,
     "metadata": {},
     "output_type": "execute_result"
    }
   ],
   "source": [
    "my_portfolio"
   ]
  },
  {
   "cell_type": "code",
   "execution_count": 145,
   "metadata": {},
   "outputs": [],
   "source": [
    "my_portfolio.to_csv(\"my_portfolio.csv\")"
   ]
  }
 ],
 "metadata": {
  "accelerator": "GPU",
  "colab": {
   "collapsed_sections": [],
   "provenance": []
  },
  "kernelspec": {
   "display_name": "Python 3 (ipykernel)",
   "language": "python",
   "name": "python3"
  },
  "language_info": {
   "codemirror_mode": {
    "name": "ipython",
    "version": 3
   },
   "file_extension": ".py",
   "mimetype": "text/x-python",
   "name": "python",
   "nbconvert_exporter": "python",
   "pygments_lexer": "ipython3",
   "version": "3.10.9"
  }
 },
 "nbformat": 4,
 "nbformat_minor": 4
}
